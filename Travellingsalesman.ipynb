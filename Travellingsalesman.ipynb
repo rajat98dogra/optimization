{
 "cells": [
  {
   "cell_type": "code",
   "execution_count": null,
   "id": "3ef4c705",
   "metadata": {},
   "outputs": [],
   "source": []
  },
  {
   "cell_type": "code",
   "execution_count": 4,
   "id": "e246b3fe",
   "metadata": {},
   "outputs": [],
   "source": [
    "n = 4\n",
    "graph= [[ 0, 10, 15, 20 ],\n",
    "        [ 10, 0, 35, 25 ],\n",
    "        [ 15, 35, 0, 30 ],\n",
    "        [ 20, 25, 30, 0 ]]\n",
    "answer=[]"
   ]
  },
  {
   "cell_type": "code",
   "execution_count": 8,
   "id": "4ca94df7",
   "metadata": {},
   "outputs": [],
   "source": [
    "def tsp(graph,visited,cur,n,count,cost):\n",
    "    \n",
    "    if count==n and graph[cur][0]:\n",
    "        answer.append(cost+graph[cur][0])\n",
    "        return\n",
    "    \n",
    "    for i in range(n):\n",
    "        if visited[i] == False and graph[cur][i]:\n",
    "            visited[i]=True\n",
    "            tsp(graph,visited,cur=i,n=n,count=count+1,cost=cost+graph[cur][i])\n",
    "            visited[i]=False\n",
    "    \n"
   ]
  },
  {
   "cell_type": "code",
   "execution_count": 3,
   "id": "eda2f5c0",
   "metadata": {},
   "outputs": [
    {
     "data": {
      "text/plain": [
       "[True, False, False, False]"
      ]
     },
     "execution_count": 3,
     "metadata": {},
     "output_type": "execute_result"
    }
   ],
   "source": [
    "visited=[False]*n\n",
    "visited[0]=True\n",
    "visited"
   ]
  },
  {
   "cell_type": "code",
   "execution_count": 10,
   "id": "dbd79657",
   "metadata": {},
   "outputs": [],
   "source": [
    "tsp(graph,visited,cur=0,n=n,count=1,cost=0)"
   ]
  },
  {
   "cell_type": "code",
   "execution_count": 11,
   "id": "1102419b",
   "metadata": {},
   "outputs": [
    {
     "data": {
      "text/plain": [
       "[95, 80, 95, 80, 95, 95]"
      ]
     },
     "execution_count": 11,
     "metadata": {},
     "output_type": "execute_result"
    }
   ],
   "source": [
    "answer"
   ]
  },
  {
   "cell_type": "code",
   "execution_count": 14,
   "id": "34c89adf",
   "metadata": {},
   "outputs": [
    {
     "data": {
      "text/plain": [
       "True"
      ]
     },
     "execution_count": 14,
     "metadata": {},
     "output_type": "execute_result"
    }
   ],
   "source": [
    "bool(1)"
   ]
  },
  {
   "cell_type": "code",
   "execution_count": null,
   "id": "284f4e00",
   "metadata": {},
   "outputs": [],
   "source": []
  },
  {
   "cell_type": "code",
   "execution_count": null,
   "id": "69a73059",
   "metadata": {},
   "outputs": [],
   "source": []
  }
 ],
 "metadata": {
  "kernelspec": {
   "display_name": "Python 3 (ipykernel)",
   "language": "python",
   "name": "python3"
  },
  "language_info": {
   "codemirror_mode": {
    "name": "ipython",
    "version": 3
   },
   "file_extension": ".py",
   "mimetype": "text/x-python",
   "name": "python",
   "nbconvert_exporter": "python",
   "pygments_lexer": "ipython3",
   "version": "3.9.12"
  }
 },
 "nbformat": 4,
 "nbformat_minor": 5
}
