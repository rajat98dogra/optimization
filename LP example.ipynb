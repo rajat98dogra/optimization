{
 "cells": [
  {
   "cell_type": "code",
   "execution_count": 2,
   "id": "b5f47dd8",
   "metadata": {},
   "outputs": [],
   "source": [
    "import numpy as np\n",
    "import pandas as pd\n",
    "import matplotlib.pyplot as plt"
   ]
  },
  {
   "cell_type": "code",
   "execution_count": 2,
   "id": "3c01b5ac",
   "metadata": {},
   "outputs": [],
   "source": [
    "n_warehouses = 2\n",
    "n_customers = 4"
   ]
  },
  {
   "cell_type": "code",
   "execution_count": 5,
   "id": "9c04d8e1",
   "metadata": {},
   "outputs": [],
   "source": [
    "cost_matrix = np.array([[1,3,0.5,4],[2.5,5,1.5,2.5]])"
   ]
  },
  {
   "cell_type": "code",
   "execution_count": 7,
   "id": "3e085de9",
   "metadata": {},
   "outputs": [],
   "source": [
    "cust_demands = np.array([35000, 22000, 18000, 30000])\n",
    "warehouse_supply = np.array([60000, 80000])"
   ]
  },
  {
   "cell_type": "code",
   "execution_count": 10,
   "id": "dba053bd",
   "metadata": {},
   "outputs": [],
   "source": [
    "# !pip install pulp\n"
   ]
  },
  {
   "cell_type": "code",
   "execution_count": 96,
   "id": "66e62edb",
   "metadata": {},
   "outputs": [],
   "source": [
    "from pulp import LpMaximize, LpProblem, LpStatus, lpSum, LpVariable,LpMinimize\n"
   ]
  },
  {
   "cell_type": "code",
   "execution_count": 115,
   "id": "d6be4c08",
   "metadata": {},
   "outputs": [],
   "source": [
    "model =LpProblem(\"Supply-Demand-Problem\", LpMinimize)"
   ]
  },
  {
   "cell_type": "code",
   "execution_count": 116,
   "id": "211ddb23",
   "metadata": {},
   "outputs": [],
   "source": [
    "variable_names = [str(i)+str(j) for j in range(1, n_customers+1) for i in range(1,n_warehouses+1)]\n",
    "variable_names.sort()"
   ]
  },
  {
   "cell_type": "code",
   "execution_count": 117,
   "id": "c5e39157",
   "metadata": {},
   "outputs": [
    {
     "data": {
      "text/plain": [
       "['11', '12', '13', '14', '21', '22', '23', '24']"
      ]
     },
     "execution_count": 117,
     "metadata": {},
     "output_type": "execute_result"
    }
   ],
   "source": [
    "variable_names"
   ]
  },
  {
   "cell_type": "code",
   "execution_count": 118,
   "id": "ac460f8c",
   "metadata": {},
   "outputs": [],
   "source": [
    "# decsion varibale\n",
    "Dec_var = LpVariable.matrix('X',indices=variable_names,lowBound=0,cat='Integer')"
   ]
  },
  {
   "cell_type": "code",
   "execution_count": 119,
   "id": "b7500e28",
   "metadata": {},
   "outputs": [],
   "source": [
    "allocation = np.array(Dec_var).reshape(2,4)"
   ]
  },
  {
   "cell_type": "code",
   "execution_count": 120,
   "id": "6d9e4a30",
   "metadata": {},
   "outputs": [
    {
     "data": {
      "text/plain": [
       "array([[X_11, X_12, X_13, X_14],\n",
       "       [X_21, X_22, X_23, X_24]], dtype=object)"
      ]
     },
     "execution_count": 120,
     "metadata": {},
     "output_type": "execute_result"
    }
   ],
   "source": [
    "allocation"
   ]
  },
  {
   "cell_type": "code",
   "execution_count": 121,
   "id": "684060d3",
   "metadata": {},
   "outputs": [
    {
     "data": {
      "text/plain": [
       "1.0*X_11 + 3.0*X_12 + 0.5*X_13 + 4.0*X_14 + 2.5*X_21 + 5.0*X_22 + 1.5*X_23 + 2.5*X_24 + 0.0"
      ]
     },
     "execution_count": 121,
     "metadata": {},
     "output_type": "execute_result"
    }
   ],
   "source": [
    "# objective function\n",
    "obj_func=lpSum(cost_matrix*allocation)\n",
    "obj_func"
   ]
  },
  {
   "cell_type": "code",
   "execution_count": 122,
   "id": "4b4903e0",
   "metadata": {},
   "outputs": [],
   "source": [
    "model += obj_func"
   ]
  },
  {
   "cell_type": "code",
   "execution_count": 123,
   "id": "a971048a",
   "metadata": {},
   "outputs": [
    {
     "data": {
      "text/plain": [
       "Supply-Demand-Problem:\n",
       "MINIMIZE\n",
       "1.0*X_11 + 3.0*X_12 + 0.5*X_13 + 4.0*X_14 + 2.5*X_21 + 5.0*X_22 + 1.5*X_23 + 2.5*X_24 + 0.0\n",
       "VARIABLES\n",
       "0 <= X_11 Integer\n",
       "0 <= X_12 Integer\n",
       "0 <= X_13 Integer\n",
       "0 <= X_14 Integer\n",
       "0 <= X_21 Integer\n",
       "0 <= X_22 Integer\n",
       "0 <= X_23 Integer\n",
       "0 <= X_24 Integer"
      ]
     },
     "execution_count": 123,
     "metadata": {},
     "output_type": "execute_result"
    }
   ],
   "source": [
    "model"
   ]
  },
  {
   "cell_type": "code",
   "execution_count": 124,
   "id": "9b7d985e",
   "metadata": {},
   "outputs": [
    {
     "name": "stdout",
     "output_type": "stream",
     "text": [
      "X_11 + X_12 + X_13 + X_14 <= 60000\n",
      "X_21 + X_22 + X_23 + X_24 <= 80000\n"
     ]
    }
   ],
   "source": [
    "## constraints\n",
    "# 1 warehouse\n",
    "for i,v in enumerate(warehouse_supply):\n",
    "    val=lpSum(allocation[i]) <=v\n",
    "    print(val)\n",
    "    model +=val,'warehouse_'+str(i)"
   ]
  },
  {
   "cell_type": "code",
   "execution_count": 125,
   "id": "efa2c4ad",
   "metadata": {},
   "outputs": [
    {
     "data": {
      "text/plain": [
       "Supply-Demand-Problem:\n",
       "MINIMIZE\n",
       "1.0*X_11 + 3.0*X_12 + 0.5*X_13 + 4.0*X_14 + 2.5*X_21 + 5.0*X_22 + 1.5*X_23 + 2.5*X_24 + 0.0\n",
       "SUBJECT TO\n",
       "warehouse_0: X_11 + X_12 + X_13 + X_14 <= 60000\n",
       "\n",
       "warehouse_1: X_21 + X_22 + X_23 + X_24 <= 80000\n",
       "\n",
       "VARIABLES\n",
       "0 <= X_11 Integer\n",
       "0 <= X_12 Integer\n",
       "0 <= X_13 Integer\n",
       "0 <= X_14 Integer\n",
       "0 <= X_21 Integer\n",
       "0 <= X_22 Integer\n",
       "0 <= X_23 Integer\n",
       "0 <= X_24 Integer"
      ]
     },
     "execution_count": 125,
     "metadata": {},
     "output_type": "execute_result"
    }
   ],
   "source": [
    "model"
   ]
  },
  {
   "cell_type": "code",
   "execution_count": 126,
   "id": "d52ee4b7",
   "metadata": {},
   "outputs": [
    {
     "name": "stdout",
     "output_type": "stream",
     "text": [
      "X_11 + X_21 >= 35000\n",
      "X_12 + X_22 >= 22000\n",
      "X_13 + X_23 >= 18000\n",
      "X_14 + X_24 >= 30000\n"
     ]
    }
   ],
   "source": [
    "## constraints\n",
    "# 1 customer\n",
    "for i,v in enumerate(cust_demands):\n",
    "    val=lpSum(allocation[0][i]+allocation[1][i]) >=v\n",
    "    print(val)\n",
    "    model +=val,'customers'+str(i)"
   ]
  },
  {
   "cell_type": "code",
   "execution_count": 127,
   "id": "3dd0e272",
   "metadata": {},
   "outputs": [
    {
     "data": {
      "text/plain": [
       "Supply-Demand-Problem:\n",
       "MINIMIZE\n",
       "1.0*X_11 + 3.0*X_12 + 0.5*X_13 + 4.0*X_14 + 2.5*X_21 + 5.0*X_22 + 1.5*X_23 + 2.5*X_24 + 0.0\n",
       "SUBJECT TO\n",
       "warehouse_0: X_11 + X_12 + X_13 + X_14 <= 60000\n",
       "\n",
       "warehouse_1: X_21 + X_22 + X_23 + X_24 <= 80000\n",
       "\n",
       "customers0: X_11 + X_21 >= 35000\n",
       "\n",
       "customers1: X_12 + X_22 >= 22000\n",
       "\n",
       "customers2: X_13 + X_23 >= 18000\n",
       "\n",
       "customers3: X_14 + X_24 >= 30000\n",
       "\n",
       "VARIABLES\n",
       "0 <= X_11 Integer\n",
       "0 <= X_12 Integer\n",
       "0 <= X_13 Integer\n",
       "0 <= X_14 Integer\n",
       "0 <= X_21 Integer\n",
       "0 <= X_22 Integer\n",
       "0 <= X_23 Integer\n",
       "0 <= X_24 Integer"
      ]
     },
     "execution_count": 127,
     "metadata": {},
     "output_type": "execute_result"
    }
   ],
   "source": [
    "model"
   ]
  },
  {
   "cell_type": "code",
   "execution_count": 128,
   "id": "8dc07970",
   "metadata": {},
   "outputs": [],
   "source": [
    "# model.writeLP(\"Supply_demand_prob.lp\")"
   ]
  },
  {
   "cell_type": "code",
   "execution_count": 129,
   "id": "2f72b55b",
   "metadata": {},
   "outputs": [
    {
     "data": {
      "text/plain": [
       "1"
      ]
     },
     "execution_count": 129,
     "metadata": {},
     "output_type": "execute_result"
    }
   ],
   "source": [
    "model.solve()"
   ]
  },
  {
   "cell_type": "code",
   "execution_count": 130,
   "id": "a2f30189",
   "metadata": {},
   "outputs": [
    {
     "name": "stdout",
     "output_type": "stream",
     "text": [
      "Optimal\n"
     ]
    }
   ],
   "source": [
    "status =  LpStatus[model.status]\n",
    "print(status)"
   ]
  },
  {
   "cell_type": "code",
   "execution_count": 131,
   "id": "e4a4c8e7",
   "metadata": {},
   "outputs": [
    {
     "name": "stdout",
     "output_type": "stream",
     "text": [
      "Total Cost: 200000.0\n",
      "X_11 = 35000.0\n",
      "X_12 = 22000.0\n",
      "X_13 = 3000.0\n",
      "X_14 = 0.0\n",
      "X_21 = 0.0\n",
      "X_22 = 0.0\n",
      "X_23 = 15000.0\n",
      "X_24 = 30000.0\n"
     ]
    }
   ],
   "source": [
    "print(\"Total Cost:\", model.objective.value())\n",
    "# Decision Variables\n",
    "\n",
    "for v in model.variables():\n",
    "    try:\n",
    "        print(v.name,\"=\", v.value())\n",
    "    except:\n",
    "        print(\"error couldnt find value\")"
   ]
  },
  {
   "cell_type": "code",
   "execution_count": 132,
   "id": "81c5c544",
   "metadata": {},
   "outputs": [
    {
     "name": "stdout",
     "output_type": "stream",
     "text": [
      "Warehouse  1\n",
      "60000.0\n",
      "Warehouse  2\n",
      "45000.0\n"
     ]
    }
   ],
   "source": [
    "for i in range(n_warehouses):\n",
    "    print(\"Warehouse \", str(i+1))\n",
    "    print(lpSum(allocation[i][j].value() for j in range(n_customers)))"
   ]
  },
  {
   "cell_type": "markdown",
   "id": "280f6917",
   "metadata": {},
   "source": [
    "<h2>NExt PRoblem"
   ]
  },
  {
   "cell_type": "code",
   "execution_count": 3,
   "id": "ddfc77b8",
   "metadata": {},
   "outputs": [],
   "source": [
    "from pulp import LpMaximize, LpProblem, LpStatus, lpSum, LpVariable,LpMinimize\n"
   ]
  },
  {
   "cell_type": "code",
   "execution_count": 4,
   "id": "72f61fda",
   "metadata": {},
   "outputs": [],
   "source": [
    "\n",
    "df = pd.DataFrame([[60,20,0,70],\n",
    "                     [80,10,40,95],\n",
    "                     [140,0,100,230] \n",
    "                    ],index=['Swordman','Bowman','Horseman'],columns=['food','wood','gold','power'])"
   ]
  },
  {
   "cell_type": "code",
   "execution_count": 5,
   "id": "a0d76965",
   "metadata": {},
   "outputs": [
    {
     "data": {
      "text/html": [
       "<div>\n",
       "<style scoped>\n",
       "    .dataframe tbody tr th:only-of-type {\n",
       "        vertical-align: middle;\n",
       "    }\n",
       "\n",
       "    .dataframe tbody tr th {\n",
       "        vertical-align: top;\n",
       "    }\n",
       "\n",
       "    .dataframe thead th {\n",
       "        text-align: right;\n",
       "    }\n",
       "</style>\n",
       "<table border=\"1\" class=\"dataframe\">\n",
       "  <thead>\n",
       "    <tr style=\"text-align: right;\">\n",
       "      <th></th>\n",
       "      <th>food</th>\n",
       "      <th>wood</th>\n",
       "      <th>gold</th>\n",
       "      <th>power</th>\n",
       "    </tr>\n",
       "  </thead>\n",
       "  <tbody>\n",
       "    <tr>\n",
       "      <th>Swordman</th>\n",
       "      <td>60</td>\n",
       "      <td>20</td>\n",
       "      <td>0</td>\n",
       "      <td>70</td>\n",
       "    </tr>\n",
       "    <tr>\n",
       "      <th>Bowman</th>\n",
       "      <td>80</td>\n",
       "      <td>10</td>\n",
       "      <td>40</td>\n",
       "      <td>95</td>\n",
       "    </tr>\n",
       "    <tr>\n",
       "      <th>Horseman</th>\n",
       "      <td>140</td>\n",
       "      <td>0</td>\n",
       "      <td>100</td>\n",
       "      <td>230</td>\n",
       "    </tr>\n",
       "  </tbody>\n",
       "</table>\n",
       "</div>"
      ],
      "text/plain": [
       "          food  wood  gold  power\n",
       "Swordman    60    20     0     70\n",
       "Bowman      80    10    40     95\n",
       "Horseman   140     0   100    230"
      ]
     },
     "execution_count": 5,
     "metadata": {},
     "output_type": "execute_result"
    }
   ],
   "source": [
    "# cost chart of army\n",
    "df"
   ]
  },
  {
   "cell_type": "code",
   "execution_count": 7,
   "id": "0827e7f9",
   "metadata": {},
   "outputs": [],
   "source": [
    "t_food=1200\n",
    "t_wood=800\n",
    "t_gold=600\n",
    "resource=[t_food,t_wood,t_gold]"
   ]
  },
  {
   "cell_type": "code",
   "execution_count": 8,
   "id": "5727db0a",
   "metadata": {},
   "outputs": [],
   "source": [
    "Swordman = LpVariable('Swordman',lowBound=0,cat='Integer')\n",
    "Bowman = LpVariable('Bowman',lowBound=0,cat='Integer')\n",
    "Horseman = LpVariable('Horseman',lowBound=0,cat='Integer')"
   ]
  },
  {
   "cell_type": "code",
   "execution_count": 6,
   "id": "5bb2ddce",
   "metadata": {},
   "outputs": [],
   "source": [
    "model = LpProblem('Army',LpMaximize)"
   ]
  },
  {
   "cell_type": "code",
   "execution_count": 38,
   "id": "cd16a4a8",
   "metadata": {},
   "outputs": [
    {
     "data": {
      "text/plain": [
       "75*Bowman + 230*Horseman + 70*Swordman + 0"
      ]
     },
     "execution_count": 38,
     "metadata": {},
     "output_type": "execute_result"
    }
   ],
   "source": [
    "obj_func=lpSum(Swordman*70+Bowman*75+Horseman*230)\n",
    "obj_func"
   ]
  },
  {
   "cell_type": "code",
   "execution_count": 39,
   "id": "a9b77a12",
   "metadata": {},
   "outputs": [
    {
     "data": {
      "text/plain": [
       "Army:\n",
       "MAXIMIZE\n",
       "75*Bowman + 230*Horseman + 70*Swordman + 0\n",
       "VARIABLES\n",
       "0 <= Bowman Integer\n",
       "0 <= Horseman Integer\n",
       "0 <= Swordman Integer"
      ]
     },
     "execution_count": 39,
     "metadata": {},
     "output_type": "execute_result"
    }
   ],
   "source": [
    "model+=obj_func\n",
    "model"
   ]
  },
  {
   "cell_type": "code",
   "execution_count": 41,
   "id": "b6e6a32c",
   "metadata": {},
   "outputs": [],
   "source": [
    "model+=lpSum(Swordman*60+Bowman*80+Horseman*140)<=t_food\n",
    "model+=lpSum(Swordman*20+Bowman*10+Horseman*0)<=t_wood\n",
    "model+=lpSum(Swordman*0+Bowman*40+Horseman*100)<=t_gold"
   ]
  },
  {
   "cell_type": "code",
   "execution_count": 42,
   "id": "d2ffe690",
   "metadata": {},
   "outputs": [
    {
     "data": {
      "text/plain": [
       "Army:\n",
       "MAXIMIZE\n",
       "75*Bowman + 230*Horseman + 70*Swordman + 0\n",
       "SUBJECT TO\n",
       "_C1: 80 Bowman + 140 Horseman + 60 Swordman <= 1200\n",
       "\n",
       "_C2: 10 Bowman + 20 Swordman <= 800\n",
       "\n",
       "_C3: 40 Bowman + 100 Horseman <= 600\n",
       "\n",
       "VARIABLES\n",
       "0 <= Bowman Integer\n",
       "0 <= Horseman Integer\n",
       "0 <= Swordman Integer"
      ]
     },
     "execution_count": 42,
     "metadata": {},
     "output_type": "execute_result"
    }
   ],
   "source": [
    "model"
   ]
  },
  {
   "cell_type": "code",
   "execution_count": 43,
   "id": "44078994",
   "metadata": {},
   "outputs": [
    {
     "data": {
      "text/plain": [
       "1"
      ]
     },
     "execution_count": 43,
     "metadata": {},
     "output_type": "execute_result"
    }
   ],
   "source": [
    "model.solve()"
   ]
  },
  {
   "cell_type": "code",
   "execution_count": 44,
   "id": "ec055335",
   "metadata": {},
   "outputs": [
    {
     "name": "stdout",
     "output_type": "stream",
     "text": [
      "Total power 1800.0\n",
      "Bowman = 0.0\n",
      "Horseman = 6.0\n",
      "Swordman = 6.0\n"
     ]
    }
   ],
   "source": [
    "print(\"Total power\", model.objective.value())\n",
    "# Decision Variables\n",
    "\n",
    "for v in model.variables():\n",
    "    try:\n",
    "        print(v.name,\"=\", v.value())\n",
    "    except:\n",
    "        print(\"error couldnt find value\")"
   ]
  },
  {
   "cell_type": "code",
   "execution_count": 11,
   "id": "526718cf",
   "metadata": {},
   "outputs": [],
   "source": [
    "var = {'Swordman':Swordman,'Bowman':Bowman,'Horseman':Horseman}"
   ]
  },
  {
   "cell_type": "code",
   "execution_count": 16,
   "id": "aae25c93",
   "metadata": {},
   "outputs": [],
   "source": [
    "model = LpProblem('Army',LpMaximize)"
   ]
  },
  {
   "cell_type": "code",
   "execution_count": 17,
   "id": "75c6f145",
   "metadata": {},
   "outputs": [
    {
     "name": "stdout",
     "output_type": "stream",
     "text": [
      "80*Bowman + 140*Horseman + 60*Swordman <= 1200\n",
      "10*Bowman + 20*Swordman <= 800\n",
      "40*Bowman + 100*Horseman <= 600\n"
     ]
    }
   ],
   "source": [
    "\n",
    "for i,v in enumerate(resource):\n",
    "#     val = lpSum(df.iloc[:][i]<=v)\n",
    "    l=df.iloc[:,i]\n",
    "    val= lpSum(var[df.index[name]]*u for name,u in enumerate(l))<=v\n",
    "    print(val)\n",
    "    model+=val\n",
    "    "
   ]
  },
  {
   "cell_type": "code",
   "execution_count": 18,
   "id": "95451749",
   "metadata": {},
   "outputs": [
    {
     "data": {
      "text/plain": [
       "75*Bowman + 230*Horseman + 70*Swordman + 0"
      ]
     },
     "execution_count": 18,
     "metadata": {},
     "output_type": "execute_result"
    }
   ],
   "source": [
    "obj_func=lpSum(Swordman*70+Bowman*75+Horseman*230)\n",
    "obj_func"
   ]
  },
  {
   "cell_type": "code",
   "execution_count": 20,
   "id": "1f0e40fb",
   "metadata": {},
   "outputs": [],
   "source": [
    "model+=obj_func"
   ]
  },
  {
   "cell_type": "code",
   "execution_count": 21,
   "id": "40ae2f23",
   "metadata": {},
   "outputs": [
    {
     "data": {
      "text/plain": [
       "Army:\n",
       "MAXIMIZE\n",
       "75*Bowman + 230*Horseman + 70*Swordman + 0\n",
       "SUBJECT TO\n",
       "_C1: 80 Bowman + 140 Horseman + 60 Swordman <= 1200\n",
       "\n",
       "_C2: 10 Bowman + 20 Swordman <= 800\n",
       "\n",
       "_C3: 40 Bowman + 100 Horseman <= 600\n",
       "\n",
       "VARIABLES\n",
       "0 <= Bowman Integer\n",
       "0 <= Horseman Integer\n",
       "0 <= Swordman Integer"
      ]
     },
     "execution_count": 21,
     "metadata": {},
     "output_type": "execute_result"
    }
   ],
   "source": [
    "model"
   ]
  },
  {
   "cell_type": "code",
   "execution_count": 22,
   "id": "cc3f56bf",
   "metadata": {},
   "outputs": [
    {
     "data": {
      "text/plain": [
       "1"
      ]
     },
     "execution_count": 22,
     "metadata": {},
     "output_type": "execute_result"
    }
   ],
   "source": [
    "model.solve()"
   ]
  },
  {
   "cell_type": "code",
   "execution_count": 23,
   "id": "a7ec00f4",
   "metadata": {},
   "outputs": [
    {
     "name": "stdout",
     "output_type": "stream",
     "text": [
      "Total power 1800.0\n",
      "Bowman = 0.0\n",
      "Horseman = 6.0\n",
      "Swordman = 6.0\n"
     ]
    }
   ],
   "source": [
    "print(\"Total power\", model.objective.value())\n",
    "# Decision Variables\n",
    "\n",
    "for v in model.variables():\n",
    "    try:\n",
    "        print(v.name,\"=\", v.value())\n",
    "    except:\n",
    "        print(\"error couldnt find value\")"
   ]
  },
  {
   "cell_type": "code",
   "execution_count": null,
   "id": "a18e2ed5",
   "metadata": {},
   "outputs": [],
   "source": []
  }
 ],
 "metadata": {
  "kernelspec": {
   "display_name": "Python 3 (ipykernel)",
   "language": "python",
   "name": "python3"
  },
  "language_info": {
   "codemirror_mode": {
    "name": "ipython",
    "version": 3
   },
   "file_extension": ".py",
   "mimetype": "text/x-python",
   "name": "python",
   "nbconvert_exporter": "python",
   "pygments_lexer": "ipython3",
   "version": "3.9.12"
  }
 },
 "nbformat": 4,
 "nbformat_minor": 5
}
